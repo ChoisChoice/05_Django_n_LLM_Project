{
 "cells": [
  {
   "cell_type": "code",
   "execution_count": 2,
   "metadata": {},
   "outputs": [
    {
     "name": "stdout",
     "output_type": "stream",
     "text": [
      "loader:  <langchain_community.document_loaders.unstructured.UnstructuredFileLoader object at 0x000002335AB85F70>\n"
     ]
    }
   ],
   "source": [
    "from langchain_community.document_loaders.unstructured import UnstructuredFileLoader\n",
    "\n",
    "file_path = \"./.cache/files/109511525.txt\"\n",
    "loader = UnstructuredFileLoader(file_path)\n",
    "print(\"loader: \", loader)"
   ]
  },
  {
   "cell_type": "code",
   "execution_count": 9,
   "metadata": {},
   "outputs": [
    {
     "name": "stdout",
     "output_type": "stream",
     "text": [
      "splitter:  <langchain_text_splitters.character.CharacterTextSplitter object at 0x000002335C1F27B0>\n",
      "['Elias Huizar may be heading to Mexico, police said. A former police officer remains on the run Tuesday after allegedly killing his ex-wife, his girlfriend and abducting a 1-year-old child in Washington state, according to authorities. Elias Huizar allegedly killed a woman outside Wiley Elementary School on Monday afternoon, according to West Richland police.']\n"
     ]
    }
   ],
   "source": [
    "from langchain.text_splitter import CharacterTextSplitter\n",
    "\n",
    "article = 'Elias Huizar may be heading to Mexico, police said. A former police officer remains on the run Tuesday after allegedly killing his ex-wife, his girlfriend and abducting a 1-year-old child in Washington state, according to authorities. Elias Huizar allegedly killed a woman outside Wiley Elementary School on Monday afternoon, according to West Richland police.'\n",
    "splitter = CharacterTextSplitter.from_tiktoken_encoder(\n",
    "        separator=\". \",\n",
    "        chunk_size=600,\n",
    "        chunk_overlap=100,\n",
    "    )\n",
    "print(\"splitter: \", splitter)\n",
    "texts = splitter.split_text(article)\n",
    "print(texts)"
   ]
  }
 ],
 "metadata": {
  "kernelspec": {
   "display_name": "Python 3",
   "language": "python",
   "name": "python3"
  },
  "language_info": {
   "codemirror_mode": {
    "name": "ipython",
    "version": 3
   },
   "file_extension": ".py",
   "mimetype": "text/x-python",
   "name": "python",
   "nbconvert_exporter": "python",
   "pygments_lexer": "ipython3",
   "version": "3.12.2"
  }
 },
 "nbformat": 4,
 "nbformat_minor": 2
}
